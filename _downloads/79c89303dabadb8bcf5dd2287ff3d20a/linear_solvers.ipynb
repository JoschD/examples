{
  "cells": [
    {
      "cell_type": "code",
      "execution_count": null,
      "metadata": {
        "collapsed": false
      },
      "outputs": [],
      "source": [
        "%matplotlib inline"
      ]
    },
    {
      "cell_type": "markdown",
      "metadata": {},
      "source": [
        "\n\n\n\n# Linear Equation Solvers\n\nA quick summary for linear equation solvers available in python packages.\n"
      ]
    },
    {
      "cell_type": "markdown",
      "metadata": {},
      "source": [
        "sphinx_gallery_thumbnail_path = '_static/thumb_linear_solvers.png'\n\n"
      ]
    },
    {
      "cell_type": "code",
      "execution_count": null,
      "metadata": {
        "collapsed": false
      },
      "outputs": [],
      "source": [
        "import numpy as np\nimport cvxpy as cp\nimport scipy"
      ]
    },
    {
      "cell_type": "markdown",
      "metadata": {},
      "source": [
        "Let's say we want to solve an equation system\n\n\\begin{align}A \\cdot x = y\\end{align}\n\nIf the equation system is exact solvable, i.e. if the inverse of A exists,\nwe can easily calculate \n\n\\begin{align}x = A^{-1} \\cdot y\\end{align}\n\nfrom numpy's linalg functions.\n\n<div class=\"alert alert-danger\"><h4>Warning</h4><p>Don't! Don't ever do that! \n      Inverting a matrix is numerically much more unstable than \n      using proper solvers for the whole equation system.</p></div>\n\n\n"
      ]
    },
    {
      "cell_type": "code",
      "execution_count": null,
      "metadata": {
        "collapsed": false
      },
      "outputs": [],
      "source": [
        "A = np.array([[1, 2], \n              [4, 6]])\ny = np.array([3, 6])\nx = np.linalg.inv(A).dot(y)\nprint(f\"{x=!s}\")"
      ]
    },
    {
      "cell_type": "markdown",
      "metadata": {},
      "source": [
        "It is better to let numpy solve this for you:\n\n"
      ]
    },
    {
      "cell_type": "code",
      "execution_count": null,
      "metadata": {
        "collapsed": false
      },
      "outputs": [],
      "source": [
        "A = np.array([[1, 2], \n              [4, 6]])\ny = np.array([3, 6])\nx = np.linalg.solve(A, y)\nprint(f\"{x=!s}\")"
      ]
    },
    {
      "cell_type": "markdown",
      "metadata": {},
      "source": [
        "But, this only works on quadratic matrices.\nIt fails if the matrix does not have an inverse:\n\n\n"
      ]
    },
    {
      "cell_type": "code",
      "execution_count": null,
      "metadata": {
        "collapsed": false
      },
      "outputs": [],
      "source": [
        "A = np.array([[1, 2, 5], \n              [4, 6, 1]])\ny = np.array([3, 6])\ntry:\n    x = np.linalg.solve(A, y)\nexcept np.linalg.LinAlgError as e:\n    print(f\"1) {e.__class__.__name__}: {e!s}\")\n\n\ntry:\n        x = np.linalg.inv(A).dot(y)\nexcept np.linalg.LinAlgError as e:\n    print(f\"2) {e.__class__.__name__}: {e!s}\")"
      ]
    },
    {
      "cell_type": "markdown",
      "metadata": {},
      "source": [
        "Yet, we can still find a solution for x\nvia the linear least squares algorithm implemented in numpy:\n\n\n"
      ]
    },
    {
      "cell_type": "code",
      "execution_count": null,
      "metadata": {
        "collapsed": false
      },
      "outputs": [],
      "source": [
        "x, residuals, rank, sv = np.linalg.lstsq(A, y, rcond=None)\nprint(f\"{x=!s}\")\nprint(f\"{residuals=!s}\")\nprint(f\"{rank=!s}\")\nprint(f\"{sv=!s}\")\nprint(f\"A * x = {A @ x}\")"
      ]
    },
    {
      "cell_type": "markdown",
      "metadata": {},
      "source": [
        "Or at least the x that fulfills: \n\n\\begin{align}\\min_{x} \\left\\lVert A \\cdot x - y \\right\\rVert\\end{align}\n\n\n"
      ]
    },
    {
      "cell_type": "code",
      "execution_count": null,
      "metadata": {
        "collapsed": false
      },
      "outputs": [],
      "source": [
        "A = np.array([[1, 1], [6, 1], [4, 6]])\ny = np.array([3, 6, 8])\nx, residuals, rank, sv = np.linalg.lstsq(A, y, rcond=None)\nprint(f\"{x=!s}\")\nprint(f\"{residuals=!s}\")\nprint(f\"{rank=!s}\")\nprint(f\"{sv=!s}\")\nprint(f\"A * x = {A @ x}\")"
      ]
    }
  ],
  "metadata": {
    "kernelspec": {
      "display_name": "Python 3",
      "language": "python",
      "name": "python3"
    },
    "language_info": {
      "codemirror_mode": {
        "name": "ipython",
        "version": 3
      },
      "file_extension": ".py",
      "mimetype": "text/x-python",
      "name": "python",
      "nbconvert_exporter": "python",
      "pygments_lexer": "ipython3",
      "version": "3.9.12"
    }
  },
  "nbformat": 4,
  "nbformat_minor": 0
}